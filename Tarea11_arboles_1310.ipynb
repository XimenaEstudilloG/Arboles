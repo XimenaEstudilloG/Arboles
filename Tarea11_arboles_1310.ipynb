{
  "nbformat": 4,
  "nbformat_minor": 0,
  "metadata": {
    "colab": {
      "name": "arboles_1310.ipynb",
      "provenance": [],
      "collapsed_sections": [],
      "authorship_tag": "ABX9TyP8qMLGhVRcNlDXl9t2RJqq",
      "include_colab_link": true
    },
    "kernelspec": {
      "name": "python3",
      "display_name": "Python 3"
    },
    "language_info": {
      "name": "python"
    }
  },
  "cells": [
    {
      "cell_type": "markdown",
      "metadata": {
        "id": "view-in-github",
        "colab_type": "text"
      },
      "source": [
        "<a href=\"https://colab.research.google.com/github/XimenaEstudilloG/Arboles/blob/main/Tarea11_arboles_1310.ipynb\" target=\"_parent\"><img src=\"https://colab.research.google.com/assets/colab-badge.svg\" alt=\"Open In Colab\"/></a>"
      ]
    },
    {
      "cell_type": "code",
      "metadata": {
        "id": "4ven2axBChNQ"
      },
      "source": [
        "class NodoBinario:\n",
        "    def __init__( self , value , left=None , right=None ):\n",
        "        self.data = value\n",
        "        self.left = left\n",
        "        self.right = right\n",
        "\n",
        "class NodoTernario:\n",
        "    def __init__( self , value , left=None , center=None, right=None ):\n",
        "        self.data = value\n",
        "        self.left = left\n",
        "        self.center = center\n",
        "        self.right = right\n"
      ],
      "execution_count": 9,
      "outputs": []
    },
    {
      "cell_type": "code",
      "metadata": {
        "colab": {
          "base_uri": "https://localhost:8080/"
        },
        "id": "1GIGHr-KELwa",
        "outputId": "2c9e3664-5587-4e3f-ac43-2e0d96f07b74"
      },
      "source": [
        "arbol1 = NodoBinario( \"R\" , NodoBinario(\"C\") , NodoBinario(\"H\") )\n",
        "print( arbol1.right.data)\n",
        "\n",
        "arbol2 = NodoTernario( 4 , NodoTernario( 3 , NodoTernario(5 , left=NodoTernario(2) ) \\\n",
        "        , NodoTernario(5) , NodoTernario(2) )  , None , NodoTernario(5) )\n",
        "print( arbol2.left.right.data)\n",
        "print( arbol2.data)\n",
        "print( arbol2.left.center.data)\n",
        "print( arbol2.right.left)\n",
        "print( arbol2.left.left.left.data)\n",
        "print(\"----- imprimir sin usar la palabra print -----\")\n",
        "ejemplo = arbol2.left.left.left.data\n",
        "print(ejemplo)\n",
        "print(\"---- otra forma ----\")\n",
        "aux = arbol2\n",
        "while( aux.left != None):\n",
        "    aux = aux.left\n",
        "print( aux.data )"
      ],
      "execution_count": 11,
      "outputs": [
        {
          "output_type": "stream",
          "name": "stdout",
          "text": [
            "H\n",
            "2\n",
            "4\n",
            "5\n",
            "None\n",
            "2\n",
            "----- imprimir sin usar la palabra print -----\n",
            "2\n",
            "---- otra forma ----\n",
            "2\n"
          ]
        }
      ]
    },
    {
      "cell_type": "code",
      "metadata": {
        "colab": {
          "base_uri": "https://localhost:8080/"
        },
        "id": "9oeY-lr3Iwag",
        "outputId": "0be46aa3-cda8-4020-dd63-14d72c1024ed"
      },
      "source": [
        "root = NodoBinario(\"Santi\",None,NodoBinario(\"Jesus\",NodoBinario(\"Pedro\",None,NodoBinario(\" Pedro jr\"))))\n",
        "print(root.right.left.right.data)"
      ],
      "execution_count": 13,
      "outputs": [
        {
          "output_type": "stream",
          "name": "stdout",
          "text": [
            " Pedro jr\n"
          ]
        }
      ]
    },
    {
      "cell_type": "code",
      "metadata": {
        "id": "78U7I-_m2253"
      },
      "source": [
        "class BinaryNode:\n",
        "\n",
        "    def __init__(self, label, parent):\n",
        "        self.label = label\n",
        "        self.left = None\n",
        "        self.right = None\n",
        "        self.parent = parent\n",
        "\n",
        "        # Métodos para asignar nodos\n",
        "    def getLabel(self):\n",
        "        return self.label\n",
        "\n",
        "    def setLabel(self, label):\n",
        "        self.label = label\n",
        "\n",
        "    def getLeft(self):\n",
        "        return self.left\n",
        "\n",
        "    def setLeft(self, left):\n",
        "        self.left = left\n",
        "\n",
        "    def getRight(self):\n",
        "        return self.right\n",
        "\n",
        "    def setRight(self, right):\n",
        "        self.right = right\n",
        "\n",
        "    def getParent(self):\n",
        "        return self.parent\n",
        "\n",
        "    def setParent(self, parent):\n",
        "        self.parent = parent\n",
        "\n",
        "class BinarySearchTree:\n",
        "\n",
        "    def __init__(self):\n",
        "        self.root = None\n",
        "\n",
        "    def insert( self , value ):\n",
        "        if self.root == None:\n",
        "            self.root = NodoBinario( value )\n",
        "        else:\n",
        "            self.__insert_nodo( self.root , value )\n",
        "\n",
        "    def __insert_nodo( self , nodo , value ):\n",
        "        if nodo.data == value:\n",
        "            pass\n",
        "        elif value < nodo.data:\n",
        "            if nodo.left == None:\n",
        "                nodo.left = NodoBinario( value )\n",
        "            else:\n",
        "                self.__insert_nodo( nodo.left , value )\n",
        "        else:\n",
        "            if nodo.right == None:\n",
        "                nodo.right = NodoBinario( value )\n",
        "            else:\n",
        "                self.__insert_nodo( nodo.right , value )   \n",
        "\n",
        "    def delete(self, label):\n",
        "        if (not self.empty()):\n",
        "            node = self.getNode(label)\n",
        "            if(node is not None):\n",
        "                if(node.getLeft() is None and node.getRight() is None):\n",
        "                    self.__reassignNodes(node, None)\n",
        "                    node = None\n",
        "                elif(node.getLeft() is None and node.getRight() is not None):\n",
        "                    self.__reassignNodes(node, node.getRight())\n",
        "                elif(node.getLeft() is not None and node.getRight() is None):\n",
        "                    self.__reassignNodes(node, node.getLeft())\n",
        "                else:\n",
        "                    tmpNode = self.getMax(node.getLeft())\n",
        "                    self.delete(tmpNode.getLabel())\n",
        "                    node.setLabel(tmpNode.getLabel())\n",
        "    \n",
        "    def getNode(self, label):\n",
        "        curr_node = None\n",
        "        if(not self.empty()):\n",
        "            curr_node = self.getRoot()\n",
        "            while curr_node is not None and curr_node.getLabel() is not label:\n",
        "                if label < curr_node.getLabel():\n",
        "                    curr_node = curr_node.getLeft()\n",
        "                else:\n",
        "                    curr_node = curr_node.getRight()\n",
        "        return curr_node\n",
        "\n",
        "    def getMax(self, root = None):\n",
        "        if(root is not None):\n",
        "            curr_node = root\n",
        "        else:\n",
        "            curr_node = self.getRoot()\n",
        "        if(not self.empty()):\n",
        "            while(curr_node.getRight() is not None):\n",
        "                curr_node = curr_node.getRight()\n",
        "        return curr_node\n",
        "\n",
        "    def getMin(self, root = None):\n",
        "        if(root is not None):\n",
        "            curr_node = root\n",
        "        else:\n",
        "            curr_node = self.getRoot()\n",
        "        if(not self.empty()):\n",
        "            curr_node = self.getRoot()\n",
        "            while(curr_node.getLeft() is not None):\n",
        "                curr_node = curr_node.getLeft()\n",
        "        return curr_node\n",
        "\n",
        "    def empty(self):\n",
        "        if self.root is None:\n",
        "            return True\n",
        "        return False\n",
        "\n",
        "    def __InOrderTraversal(self, curr_node):\n",
        "        nodeList = []\n",
        "        if curr_node is not None:\n",
        "            nodeList.insert(0, curr_node)\n",
        "            nodeList = nodeList + self.__InOrderTraversal(curr_node.getLeft())\n",
        "            nodeList = nodeList + self.__InOrderTraversal(curr_node.getRight())\n",
        "        return nodeList\n",
        "\n",
        "    def getRoot(self):\n",
        "        return self.root\n",
        "\n",
        "    def __isRightChildren(self, node):\n",
        "        if(node == node.getParent().getRight()):\n",
        "            return True\n",
        "        return False\n",
        "\n",
        "    def __reassignNodes(self, node, newChildren):\n",
        "        if(newChildren is not None):\n",
        "            newChildren.setParent(node.getParent())\n",
        "        if(node.getParent() is not None):\n",
        "            if(self.__isRightChildren(node)):\n",
        "                node.getParent().setRight(newChildren)\n",
        "            else:\n",
        "                node.getParent().setLeft(newChildren)\n",
        "\n",
        "    def traversalTree(self, traversalFunction = None, root = None):\n",
        "        if(traversalFunction is None):\n",
        "            return self.__InOrderTraversal(self.root)\n",
        "        else:\n",
        "            return traversalFunction(self.root)\n",
        "\n",
        "    def transversal( self , formato = \"posorden\"):\n",
        "        if formato == \"posorden\":\n",
        "            self.recorrido_pos( self.root )\n",
        "        elif formato == \"Preorden\":\n",
        "            self.recorrido_pre( self.root )\n",
        "        else: #Inorden\n",
        "            self.recorrido_in( self.root )\n",
        "        print(\"\")\n",
        "\n",
        "    def recorrido_pos( self, nodo ):\n",
        "        if nodo != None:\n",
        "            self.recorrido_pos( nodo.left )\n",
        "            self.recorrido_pos( nodo.right )\n",
        "            print( str(nodo.data) , end=\" , \")\n",
        "\n",
        "    def recorrido_pre( self , nodo ):\n",
        "        if nodo != None:\n",
        "            print( str(nodo.data) , end=\" , \")\n",
        "            self.recorrido_pos( nodo.left )\n",
        "            self.recorrido_pos( nodo.right )\n",
        "\n",
        "    def recorrido_in( self, nodo ):\n",
        "        if nodo != None:\n",
        "            print( str(nodo.data) , end=\" , \" )\n",
        "            self.recorrido_in( nodo.left )\n",
        "            print( str(nodo.data) )\n",
        "            self.recorrido_in( nodo.right )    \n",
        "\n",
        "    def __str__(self):\n",
        "        list = self.__InOrderTraversal(self.root)\n",
        "        str = \"\"\n",
        "        for x in list:\n",
        "            str = str + \" \" + x.getLabel().__str__()\n",
        "        return str"
      ],
      "execution_count": 17,
      "outputs": []
    },
    {
      "cell_type": "code",
      "metadata": {
        "colab": {
          "base_uri": "https://localhost:8080/",
          "height": 380
        },
        "id": "7rk2q09ECDqz",
        "outputId": "5b4501f6-8d21-4c25-e706-7e91d8022122"
      },
      "source": [
        "abb = BinarySearchTree()\n",
        "abb.insert(30)\n",
        "abb.insert(15)\n",
        "abb.insert(45)\n",
        "abb.insert(12)\n",
        "abb.insert(17)\n",
        "abb.insert(50)\n",
        "abb.insert(55)\n",
        "abb.insert(35)\n",
        "abb.insert(2)\n",
        "abb.insert(1)\n",
        "abb.insert(80)\n",
        "abb.insert(60)\n",
        "\n",
        "print(abb.__str__())\n",
        "abb.delete(60)\n",
        "print(abb.__str__())\n",
        "abb.delete(12)\n",
        "print(abb.__str__())\n",
        "abb.delete(15)\n",
        "print(abb.__str__())"
      ],
      "execution_count": 18,
      "outputs": [
        {
          "output_type": "error",
          "ename": "AttributeError",
          "evalue": "ignored",
          "traceback": [
            "\u001b[0;31m---------------------------------------------------------------------------\u001b[0m",
            "\u001b[0;31mAttributeError\u001b[0m                            Traceback (most recent call last)",
            "\u001b[0;32m<ipython-input-18-817f990ae006>\u001b[0m in \u001b[0;36m<module>\u001b[0;34m()\u001b[0m\n\u001b[1;32m     13\u001b[0m \u001b[0mabb\u001b[0m\u001b[0;34m.\u001b[0m\u001b[0minsert\u001b[0m\u001b[0;34m(\u001b[0m\u001b[0;36m60\u001b[0m\u001b[0;34m)\u001b[0m\u001b[0;34m\u001b[0m\u001b[0;34m\u001b[0m\u001b[0m\n\u001b[1;32m     14\u001b[0m \u001b[0;34m\u001b[0m\u001b[0m\n\u001b[0;32m---> 15\u001b[0;31m \u001b[0mprint\u001b[0m\u001b[0;34m(\u001b[0m\u001b[0mabb\u001b[0m\u001b[0;34m.\u001b[0m\u001b[0m__str__\u001b[0m\u001b[0;34m(\u001b[0m\u001b[0;34m)\u001b[0m\u001b[0;34m)\u001b[0m\u001b[0;34m\u001b[0m\u001b[0;34m\u001b[0m\u001b[0m\n\u001b[0m\u001b[1;32m     16\u001b[0m \u001b[0mabb\u001b[0m\u001b[0;34m.\u001b[0m\u001b[0mdelete\u001b[0m\u001b[0;34m(\u001b[0m\u001b[0;36m60\u001b[0m\u001b[0;34m)\u001b[0m\u001b[0;34m\u001b[0m\u001b[0;34m\u001b[0m\u001b[0m\n\u001b[1;32m     17\u001b[0m \u001b[0mprint\u001b[0m\u001b[0;34m(\u001b[0m\u001b[0mabb\u001b[0m\u001b[0;34m.\u001b[0m\u001b[0m__str__\u001b[0m\u001b[0;34m(\u001b[0m\u001b[0;34m)\u001b[0m\u001b[0;34m)\u001b[0m\u001b[0;34m\u001b[0m\u001b[0;34m\u001b[0m\u001b[0m\n",
            "\u001b[0;32m<ipython-input-17-d6890e328289>\u001b[0m in \u001b[0;36m__str__\u001b[0;34m(self)\u001b[0m\n\u001b[1;32m    170\u001b[0m \u001b[0;34m\u001b[0m\u001b[0m\n\u001b[1;32m    171\u001b[0m     \u001b[0;32mdef\u001b[0m \u001b[0m__str__\u001b[0m\u001b[0;34m(\u001b[0m\u001b[0mself\u001b[0m\u001b[0;34m)\u001b[0m\u001b[0;34m:\u001b[0m\u001b[0;34m\u001b[0m\u001b[0;34m\u001b[0m\u001b[0m\n\u001b[0;32m--> 172\u001b[0;31m         \u001b[0mlist\u001b[0m \u001b[0;34m=\u001b[0m \u001b[0mself\u001b[0m\u001b[0;34m.\u001b[0m\u001b[0m__InOrderTraversal\u001b[0m\u001b[0;34m(\u001b[0m\u001b[0mself\u001b[0m\u001b[0;34m.\u001b[0m\u001b[0mroot\u001b[0m\u001b[0;34m)\u001b[0m\u001b[0;34m\u001b[0m\u001b[0;34m\u001b[0m\u001b[0m\n\u001b[0m\u001b[1;32m    173\u001b[0m         \u001b[0mstr\u001b[0m \u001b[0;34m=\u001b[0m \u001b[0;34m\"\"\u001b[0m\u001b[0;34m\u001b[0m\u001b[0;34m\u001b[0m\u001b[0m\n\u001b[1;32m    174\u001b[0m         \u001b[0;32mfor\u001b[0m \u001b[0mx\u001b[0m \u001b[0;32min\u001b[0m \u001b[0mlist\u001b[0m\u001b[0;34m:\u001b[0m\u001b[0;34m\u001b[0m\u001b[0;34m\u001b[0m\u001b[0m\n",
            "\u001b[0;32m<ipython-input-17-d6890e328289>\u001b[0m in \u001b[0;36m__InOrderTraversal\u001b[0;34m(self, curr_node)\u001b[0m\n\u001b[1;32m    114\u001b[0m         \u001b[0;32mif\u001b[0m \u001b[0mcurr_node\u001b[0m \u001b[0;32mis\u001b[0m \u001b[0;32mnot\u001b[0m \u001b[0;32mNone\u001b[0m\u001b[0;34m:\u001b[0m\u001b[0;34m\u001b[0m\u001b[0;34m\u001b[0m\u001b[0m\n\u001b[1;32m    115\u001b[0m             \u001b[0mnodeList\u001b[0m\u001b[0;34m.\u001b[0m\u001b[0minsert\u001b[0m\u001b[0;34m(\u001b[0m\u001b[0;36m0\u001b[0m\u001b[0;34m,\u001b[0m \u001b[0mcurr_node\u001b[0m\u001b[0;34m)\u001b[0m\u001b[0;34m\u001b[0m\u001b[0;34m\u001b[0m\u001b[0m\n\u001b[0;32m--> 116\u001b[0;31m             \u001b[0mnodeList\u001b[0m \u001b[0;34m=\u001b[0m \u001b[0mnodeList\u001b[0m \u001b[0;34m+\u001b[0m \u001b[0mself\u001b[0m\u001b[0;34m.\u001b[0m\u001b[0m__InOrderTraversal\u001b[0m\u001b[0;34m(\u001b[0m\u001b[0mcurr_node\u001b[0m\u001b[0;34m.\u001b[0m\u001b[0mgetLeft\u001b[0m\u001b[0;34m(\u001b[0m\u001b[0;34m)\u001b[0m\u001b[0;34m)\u001b[0m\u001b[0;34m\u001b[0m\u001b[0;34m\u001b[0m\u001b[0m\n\u001b[0m\u001b[1;32m    117\u001b[0m             \u001b[0mnodeList\u001b[0m \u001b[0;34m=\u001b[0m \u001b[0mnodeList\u001b[0m \u001b[0;34m+\u001b[0m \u001b[0mself\u001b[0m\u001b[0;34m.\u001b[0m\u001b[0m__InOrderTraversal\u001b[0m\u001b[0;34m(\u001b[0m\u001b[0mcurr_node\u001b[0m\u001b[0;34m.\u001b[0m\u001b[0mgetRight\u001b[0m\u001b[0;34m(\u001b[0m\u001b[0;34m)\u001b[0m\u001b[0;34m)\u001b[0m\u001b[0;34m\u001b[0m\u001b[0;34m\u001b[0m\u001b[0m\n\u001b[1;32m    118\u001b[0m         \u001b[0;32mreturn\u001b[0m \u001b[0mnodeList\u001b[0m\u001b[0;34m\u001b[0m\u001b[0;34m\u001b[0m\u001b[0m\n",
            "\u001b[0;31mAttributeError\u001b[0m: 'NodoBinario' object has no attribute 'getLeft'"
          ]
        }
      ]
    }
  ]
}